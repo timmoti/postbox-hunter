{
 "cells": [
  {
   "cell_type": "markdown",
   "metadata": {},
   "source": [
    "# Main imports"
   ]
  },
  {
   "cell_type": "code",
   "execution_count": 6,
   "metadata": {
    "collapsed": true
   },
   "outputs": [],
   "source": [
    "import requests\n",
    "from bs4 import BeautifulSoup\n",
    "import pandas as pd\n",
    "from selenium import webdriver\n",
    "from selenium.webdriver.common.by import By\n",
    "from selenium.webdriver.support.ui import WebDriverWait\n",
    "from selenium.webdriver.support import expected_conditions as EC"
   ]
  },
  {
   "cell_type": "markdown",
   "metadata": {},
   "source": [
    "# Acquiring posting box details"
   ]
  },
  {
   "cell_type": "code",
   "execution_count": 35,
   "metadata": {
    "collapsed": true
   },
   "outputs": [],
   "source": [
    "driver = webdriver.Chrome(\"/usr/local/bin/chromedriver\")\n",
    "driver.get(\"https://www.singpost.com/locate-us\")\n",
    "try:\n",
    "    element = WebDriverWait(driver, 20).until(\n",
    "        EC.presence_of_element_located((By.CLASS_NAME, \"icoContent\"))\n",
    "    )\n",
    "    html = driver.page_source\n",
    "    posting_box_soup = BeautifulSoup(html, 'html.parser')\n",
    "finally:\n",
    "    driver.quit()"
   ]
  },
  {
   "cell_type": "code",
   "execution_count": 44,
   "metadata": {
    "collapsed": true
   },
   "outputs": [],
   "source": [
    "df_posting_box = pd.DataFrame(columns=['type', 'location', 'lat', 'long', 'address'])\n",
    "\n",
    "for entry in posting_box_soup.find_all('div', {'class':'icoContent'}):\n",
    "    mail_type = entry.find('h3', {'class': 'serviceType'}).text\n",
    "    location = entry.find('h2', {'class': 'loc_name'}).text\n",
    "    lat = entry.find('p', {'class': 'map_lat'}).text\n",
    "    longitude = entry.find('p', {'class': 'map_lan'}).text\n",
    "    address = None\n",
    "    \n",
    "    df_posting_box.loc[len(df_posting_box)] = [mail_type, location, lat, longitude, address]"
   ]
  },
  {
   "cell_type": "code",
   "execution_count": 45,
   "metadata": {},
   "outputs": [
    {
     "data": {
      "text/html": [
       "<div>\n",
       "<style scoped>\n",
       "    .dataframe tbody tr th:only-of-type {\n",
       "        vertical-align: middle;\n",
       "    }\n",
       "\n",
       "    .dataframe tbody tr th {\n",
       "        vertical-align: top;\n",
       "    }\n",
       "\n",
       "    .dataframe thead th {\n",
       "        text-align: right;\n",
       "    }\n",
       "</style>\n",
       "<table border=\"1\" class=\"dataframe\">\n",
       "  <thead>\n",
       "    <tr style=\"text-align: right;\">\n",
       "      <th></th>\n",
       "      <th>type</th>\n",
       "      <th>location</th>\n",
       "      <th>lat</th>\n",
       "      <th>long</th>\n",
       "      <th>address</th>\n",
       "    </tr>\n",
       "  </thead>\n",
       "  <tbody>\n",
       "    <tr>\n",
       "      <th>0</th>\n",
       "      <td>Posting Box</td>\n",
       "      <td>1 Cove Avenue (Sentosa Cove Village)</td>\n",
       "      <td>1.24695</td>\n",
       "      <td>103.8389969</td>\n",
       "      <td>None</td>\n",
       "    </tr>\n",
       "    <tr>\n",
       "      <th>1</th>\n",
       "      <td>Posting Box</td>\n",
       "      <td>1 Park Road Peoples Park Complex</td>\n",
       "      <td>1.284386</td>\n",
       "      <td>103.843157</td>\n",
       "      <td>None</td>\n",
       "    </tr>\n",
       "    <tr>\n",
       "      <th>2</th>\n",
       "      <td>Posting Box</td>\n",
       "      <td>18 Chin Bee Ave</td>\n",
       "      <td>1.333105</td>\n",
       "      <td>103.711239</td>\n",
       "      <td>None</td>\n",
       "    </tr>\n",
       "    <tr>\n",
       "      <th>3</th>\n",
       "      <td>Posting Box</td>\n",
       "      <td>755 Upper Serangoon Road (Former Post Office)</td>\n",
       "      <td>1.35438</td>\n",
       "      <td>103.8779984</td>\n",
       "      <td>None</td>\n",
       "    </tr>\n",
       "    <tr>\n",
       "      <th>4</th>\n",
       "      <td>Posting Box</td>\n",
       "      <td>Admiralty MRT Station</td>\n",
       "      <td>1.440704</td>\n",
       "      <td>103.800521</td>\n",
       "      <td>None</td>\n",
       "    </tr>\n",
       "  </tbody>\n",
       "</table>\n",
       "</div>"
      ],
      "text/plain": [
       "          type                                       location       lat  \\\n",
       "0  Posting Box           1 Cove Avenue (Sentosa Cove Village)   1.24695   \n",
       "1  Posting Box               1 Park Road Peoples Park Complex  1.284386   \n",
       "2  Posting Box                                18 Chin Bee Ave  1.333105   \n",
       "3  Posting Box  755 Upper Serangoon Road (Former Post Office)   1.35438   \n",
       "4  Posting Box                          Admiralty MRT Station  1.440704   \n",
       "\n",
       "          long address  \n",
       "0  103.8389969    None  \n",
       "1   103.843157    None  \n",
       "2   103.711239    None  \n",
       "3  103.8779984    None  \n",
       "4   103.800521    None  "
      ]
     },
     "execution_count": 45,
     "metadata": {},
     "output_type": "execute_result"
    }
   ],
   "source": [
    "df_posting_box.head()"
   ]
  },
  {
   "cell_type": "code",
   "execution_count": 46,
   "metadata": {},
   "outputs": [
    {
     "data": {
      "text/plain": [
       "803"
      ]
     },
     "execution_count": 46,
     "metadata": {},
     "output_type": "execute_result"
    }
   ],
   "source": [
    "len(df_posting_box)"
   ]
  },
  {
   "cell_type": "code",
   "execution_count": 47,
   "metadata": {},
   "outputs": [
    {
     "data": {
      "text/html": [
       "<div>\n",
       "<style scoped>\n",
       "    .dataframe tbody tr th:only-of-type {\n",
       "        vertical-align: middle;\n",
       "    }\n",
       "\n",
       "    .dataframe tbody tr th {\n",
       "        vertical-align: top;\n",
       "    }\n",
       "\n",
       "    .dataframe thead th {\n",
       "        text-align: right;\n",
       "    }\n",
       "</style>\n",
       "<table border=\"1\" class=\"dataframe\">\n",
       "  <thead>\n",
       "    <tr style=\"text-align: right;\">\n",
       "      <th></th>\n",
       "      <th>type</th>\n",
       "      <th>location</th>\n",
       "      <th>lat</th>\n",
       "      <th>long</th>\n",
       "      <th>address</th>\n",
       "    </tr>\n",
       "  </thead>\n",
       "  <tbody>\n",
       "    <tr>\n",
       "      <th>798</th>\n",
       "      <td>Posting Box</td>\n",
       "      <td>Yishun Street 21 (Blk 217)</td>\n",
       "      <td>1.432825</td>\n",
       "      <td>103.836749</td>\n",
       "      <td>None</td>\n",
       "    </tr>\n",
       "    <tr>\n",
       "      <th>799</th>\n",
       "      <td>Posting Box</td>\n",
       "      <td>Yishun Street 51 (Blk 513)</td>\n",
       "      <td>1.416251</td>\n",
       "      <td>103.843904</td>\n",
       "      <td>None</td>\n",
       "    </tr>\n",
       "    <tr>\n",
       "      <th>800</th>\n",
       "      <td>Posting Box</td>\n",
       "      <td>Yishun Street 61 (Blk 643)</td>\n",
       "      <td>1.421424</td>\n",
       "      <td>103.836849</td>\n",
       "      <td>None</td>\n",
       "    </tr>\n",
       "    <tr>\n",
       "      <th>801</th>\n",
       "      <td>Posting Box</td>\n",
       "      <td>Yuan Ching Road (Blk E - Lakeside Apartment)</td>\n",
       "      <td>1.335644</td>\n",
       "      <td>103.72532</td>\n",
       "      <td>None</td>\n",
       "    </tr>\n",
       "    <tr>\n",
       "      <th>802</th>\n",
       "      <td>Posting Box</td>\n",
       "      <td>Yung Loh Road (Blk 155)</td>\n",
       "      <td>1.327793</td>\n",
       "      <td>103.722685</td>\n",
       "      <td>None</td>\n",
       "    </tr>\n",
       "  </tbody>\n",
       "</table>\n",
       "</div>"
      ],
      "text/plain": [
       "            type                                      location       lat  \\\n",
       "798  Posting Box                    Yishun Street 21 (Blk 217)  1.432825   \n",
       "799  Posting Box                    Yishun Street 51 (Blk 513)  1.416251   \n",
       "800  Posting Box                    Yishun Street 61 (Blk 643)  1.421424   \n",
       "801  Posting Box  Yuan Ching Road (Blk E - Lakeside Apartment)  1.335644   \n",
       "802  Posting Box                       Yung Loh Road (Blk 155)  1.327793   \n",
       "\n",
       "           long address  \n",
       "798  103.836749    None  \n",
       "799  103.843904    None  \n",
       "800  103.836849    None  \n",
       "801   103.72532    None  \n",
       "802  103.722685    None  "
      ]
     },
     "execution_count": 47,
     "metadata": {},
     "output_type": "execute_result"
    }
   ],
   "source": [
    "df_posting_box.tail()"
   ]
  },
  {
   "cell_type": "markdown",
   "metadata": {},
   "source": [
    "# Acquiring Post office details"
   ]
  },
  {
   "cell_type": "code",
   "execution_count": 40,
   "metadata": {
    "collapsed": true
   },
   "outputs": [],
   "source": [
    "driver = webdriver.Chrome(\"/usr/local/bin/chromedriver\")\n",
    "driver.get(\"https://www.singpost.com/locate-us\")\n",
    "try:\n",
    "    element = WebDriverWait(driver, 20).until(\n",
    "        EC.presence_of_element_located((By.CLASS_NAME, \"icoContent\"))\n",
    "    )\n",
    "    html = driver.page_source\n",
    "    post_office_soup = BeautifulSoup(html, 'html.parser')\n",
    "finally:\n",
    "    driver.quit()"
   ]
  },
  {
   "cell_type": "code",
   "execution_count": 41,
   "metadata": {
    "collapsed": true
   },
   "outputs": [],
   "source": [
    "df_post_office = pd.DataFrame(columns=['type', 'location', 'lat', 'long', 'address'])\n",
    "\n",
    "for entry in post_office_soup.find_all('div', {'class':'icoContent'}):\n",
    "    mail_type = entry.find('h3', {'class': 'serviceType'}).text\n",
    "    location = entry.find('h2', {'class': 'loc_name'}).text\n",
    "    lat = entry.find('p', {'class': 'map_lat'}).text\n",
    "    longitude = entry.find('p', {'class': 'map_lan'}).text\n",
    "    address = entry.find('p', {'class': 'address'}).text\n",
    "    \n",
    "    df_post_office.loc[len(df_post_office)] = [mail_type, location, lat, longitude, address]"
   ]
  },
  {
   "cell_type": "code",
   "execution_count": 42,
   "metadata": {},
   "outputs": [
    {
     "data": {
      "text/html": [
       "<div>\n",
       "<style scoped>\n",
       "    .dataframe tbody tr th:only-of-type {\n",
       "        vertical-align: middle;\n",
       "    }\n",
       "\n",
       "    .dataframe tbody tr th {\n",
       "        vertical-align: top;\n",
       "    }\n",
       "\n",
       "    .dataframe thead th {\n",
       "        text-align: right;\n",
       "    }\n",
       "</style>\n",
       "<table border=\"1\" class=\"dataframe\">\n",
       "  <thead>\n",
       "    <tr style=\"text-align: right;\">\n",
       "      <th></th>\n",
       "      <th>type</th>\n",
       "      <th>location</th>\n",
       "      <th>lat</th>\n",
       "      <th>long</th>\n",
       "      <th>address</th>\n",
       "    </tr>\n",
       "  </thead>\n",
       "  <tbody>\n",
       "    <tr>\n",
       "      <th>0</th>\n",
       "      <td>Post Office</td>\n",
       "      <td>Alexandra Post Office</td>\n",
       "      <td>1.29154</td>\n",
       "      <td>103.8199997</td>\n",
       "      <td>110 Alexandra Road, #01-01, Singapore 159921</td>\n",
       "    </tr>\n",
       "    <tr>\n",
       "      <th>1</th>\n",
       "      <td>Post Office</td>\n",
       "      <td>Ang Mo Kio Central Post Office</td>\n",
       "      <td>1.37271</td>\n",
       "      <td>103.8460007</td>\n",
       "      <td>Blk 727 Ang Mo Kio Ave 6 #01-4246, Singapore 5...</td>\n",
       "    </tr>\n",
       "    <tr>\n",
       "      <th>2</th>\n",
       "      <td>Post Office</td>\n",
       "      <td>Bedok Central Post Office</td>\n",
       "      <td>1.3274699</td>\n",
       "      <td>103.9339981</td>\n",
       "      <td>Blk 218 Bedok North St.1 #01-49, Singapore 460218</td>\n",
       "    </tr>\n",
       "    <tr>\n",
       "      <th>3</th>\n",
       "      <td>Post Office</td>\n",
       "      <td>Bishan Post Office</td>\n",
       "      <td>1.34926</td>\n",
       "      <td>103.8499985</td>\n",
       "      <td>51 Bishan Street 13 #01-03 Bishan Community Cl...</td>\n",
       "    </tr>\n",
       "    <tr>\n",
       "      <th>4</th>\n",
       "      <td>Post Office</td>\n",
       "      <td>Bras Basah Post Office</td>\n",
       "      <td>1.29678</td>\n",
       "      <td>103.8539963</td>\n",
       "      <td>Blk 231 Bain Street#01-03 Bras Basah Complex, ...</td>\n",
       "    </tr>\n",
       "  </tbody>\n",
       "</table>\n",
       "</div>"
      ],
      "text/plain": [
       "          type                        location        lat         long  \\\n",
       "0  Post Office           Alexandra Post Office    1.29154  103.8199997   \n",
       "1  Post Office  Ang Mo Kio Central Post Office    1.37271  103.8460007   \n",
       "2  Post Office       Bedok Central Post Office  1.3274699  103.9339981   \n",
       "3  Post Office              Bishan Post Office    1.34926  103.8499985   \n",
       "4  Post Office          Bras Basah Post Office    1.29678  103.8539963   \n",
       "\n",
       "                                             address  \n",
       "0       110 Alexandra Road, #01-01, Singapore 159921  \n",
       "1  Blk 727 Ang Mo Kio Ave 6 #01-4246, Singapore 5...  \n",
       "2  Blk 218 Bedok North St.1 #01-49, Singapore 460218  \n",
       "3  51 Bishan Street 13 #01-03 Bishan Community Cl...  \n",
       "4  Blk 231 Bain Street#01-03 Bras Basah Complex, ...  "
      ]
     },
     "execution_count": 42,
     "metadata": {},
     "output_type": "execute_result"
    }
   ],
   "source": [
    "df_post_office.head()"
   ]
  },
  {
   "cell_type": "code",
   "execution_count": 43,
   "metadata": {},
   "outputs": [
    {
     "data": {
      "text/plain": [
       "57"
      ]
     },
     "execution_count": 43,
     "metadata": {},
     "output_type": "execute_result"
    }
   ],
   "source": [
    "len(df_post_office)"
   ]
  },
  {
   "cell_type": "code",
   "execution_count": 48,
   "metadata": {},
   "outputs": [
    {
     "data": {
      "text/html": [
       "<div>\n",
       "<style scoped>\n",
       "    .dataframe tbody tr th:only-of-type {\n",
       "        vertical-align: middle;\n",
       "    }\n",
       "\n",
       "    .dataframe tbody tr th {\n",
       "        vertical-align: top;\n",
       "    }\n",
       "\n",
       "    .dataframe thead th {\n",
       "        text-align: right;\n",
       "    }\n",
       "</style>\n",
       "<table border=\"1\" class=\"dataframe\">\n",
       "  <thead>\n",
       "    <tr style=\"text-align: right;\">\n",
       "      <th></th>\n",
       "      <th>type</th>\n",
       "      <th>location</th>\n",
       "      <th>lat</th>\n",
       "      <th>long</th>\n",
       "      <th>address</th>\n",
       "    </tr>\n",
       "  </thead>\n",
       "  <tbody>\n",
       "    <tr>\n",
       "      <th>52</th>\n",
       "      <td>Post Office</td>\n",
       "      <td>Toa Payoh North Post Office</td>\n",
       "      <td>1.34208</td>\n",
       "      <td>103.848999</td>\n",
       "      <td>Blk 203 Toa Payoh North #01-1117/1119, Singapo...</td>\n",
       "    </tr>\n",
       "    <tr>\n",
       "      <th>53</th>\n",
       "      <td>Post Office</td>\n",
       "      <td>Towner Post Office</td>\n",
       "      <td>1.31949</td>\n",
       "      <td>103.8610001</td>\n",
       "      <td>Blk 101 Towner Road, #01-204/206, Singapore 32...</td>\n",
       "    </tr>\n",
       "    <tr>\n",
       "      <th>54</th>\n",
       "      <td>Post Office</td>\n",
       "      <td>Whampoa Post Office</td>\n",
       "      <td>1.32479</td>\n",
       "      <td>103.8570023</td>\n",
       "      <td>Whampoa Community Club, 300 Whampoa Drive, #01...</td>\n",
       "    </tr>\n",
       "    <tr>\n",
       "      <th>55</th>\n",
       "      <td>Post Office</td>\n",
       "      <td>Woodlands Central Post Office</td>\n",
       "      <td>1.43527</td>\n",
       "      <td>103.7870026</td>\n",
       "      <td>900 South Woodlands Drive #03-05/06 Woodlands ...</td>\n",
       "    </tr>\n",
       "    <tr>\n",
       "      <th>56</th>\n",
       "      <td>Post Office</td>\n",
       "      <td>Yishun Central Post Office</td>\n",
       "      <td>1.42995</td>\n",
       "      <td>103.8359985</td>\n",
       "      <td>930 Yishun Avenue 2, #02-04/05, Northpoint Cit...</td>\n",
       "    </tr>\n",
       "  </tbody>\n",
       "</table>\n",
       "</div>"
      ],
      "text/plain": [
       "           type                       location      lat         long  \\\n",
       "52  Post Office    Toa Payoh North Post Office  1.34208   103.848999   \n",
       "53  Post Office             Towner Post Office  1.31949  103.8610001   \n",
       "54  Post Office            Whampoa Post Office  1.32479  103.8570023   \n",
       "55  Post Office  Woodlands Central Post Office  1.43527  103.7870026   \n",
       "56  Post Office     Yishun Central Post Office  1.42995  103.8359985   \n",
       "\n",
       "                                              address  \n",
       "52  Blk 203 Toa Payoh North #01-1117/1119, Singapo...  \n",
       "53  Blk 101 Towner Road, #01-204/206, Singapore 32...  \n",
       "54  Whampoa Community Club, 300 Whampoa Drive, #01...  \n",
       "55  900 South Woodlands Drive #03-05/06 Woodlands ...  \n",
       "56  930 Yishun Avenue 2, #02-04/05, Northpoint Cit...  "
      ]
     },
     "execution_count": 48,
     "metadata": {},
     "output_type": "execute_result"
    }
   ],
   "source": [
    "df_post_office.tail()"
   ]
  },
  {
   "cell_type": "markdown",
   "metadata": {},
   "source": [
    "# Combine into one dataframe"
   ]
  },
  {
   "cell_type": "code",
   "execution_count": 57,
   "metadata": {
    "collapsed": true
   },
   "outputs": [],
   "source": [
    "df = pd.concat([df_posting_box, df_post_office]).reset_index(drop=True)"
   ]
  },
  {
   "cell_type": "code",
   "execution_count": 58,
   "metadata": {},
   "outputs": [
    {
     "data": {
      "text/html": [
       "<div>\n",
       "<style scoped>\n",
       "    .dataframe tbody tr th:only-of-type {\n",
       "        vertical-align: middle;\n",
       "    }\n",
       "\n",
       "    .dataframe tbody tr th {\n",
       "        vertical-align: top;\n",
       "    }\n",
       "\n",
       "    .dataframe thead th {\n",
       "        text-align: right;\n",
       "    }\n",
       "</style>\n",
       "<table border=\"1\" class=\"dataframe\">\n",
       "  <thead>\n",
       "    <tr style=\"text-align: right;\">\n",
       "      <th></th>\n",
       "      <th>type</th>\n",
       "      <th>location</th>\n",
       "      <th>lat</th>\n",
       "      <th>long</th>\n",
       "      <th>address</th>\n",
       "    </tr>\n",
       "  </thead>\n",
       "  <tbody>\n",
       "    <tr>\n",
       "      <th>0</th>\n",
       "      <td>Posting Box</td>\n",
       "      <td>1 Cove Avenue (Sentosa Cove Village)</td>\n",
       "      <td>1.24695</td>\n",
       "      <td>103.8389969</td>\n",
       "      <td>None</td>\n",
       "    </tr>\n",
       "    <tr>\n",
       "      <th>1</th>\n",
       "      <td>Posting Box</td>\n",
       "      <td>1 Park Road Peoples Park Complex</td>\n",
       "      <td>1.284386</td>\n",
       "      <td>103.843157</td>\n",
       "      <td>None</td>\n",
       "    </tr>\n",
       "    <tr>\n",
       "      <th>2</th>\n",
       "      <td>Posting Box</td>\n",
       "      <td>18 Chin Bee Ave</td>\n",
       "      <td>1.333105</td>\n",
       "      <td>103.711239</td>\n",
       "      <td>None</td>\n",
       "    </tr>\n",
       "    <tr>\n",
       "      <th>3</th>\n",
       "      <td>Posting Box</td>\n",
       "      <td>755 Upper Serangoon Road (Former Post Office)</td>\n",
       "      <td>1.35438</td>\n",
       "      <td>103.8779984</td>\n",
       "      <td>None</td>\n",
       "    </tr>\n",
       "    <tr>\n",
       "      <th>4</th>\n",
       "      <td>Posting Box</td>\n",
       "      <td>Admiralty MRT Station</td>\n",
       "      <td>1.440704</td>\n",
       "      <td>103.800521</td>\n",
       "      <td>None</td>\n",
       "    </tr>\n",
       "  </tbody>\n",
       "</table>\n",
       "</div>"
      ],
      "text/plain": [
       "          type                                       location       lat  \\\n",
       "0  Posting Box           1 Cove Avenue (Sentosa Cove Village)   1.24695   \n",
       "1  Posting Box               1 Park Road Peoples Park Complex  1.284386   \n",
       "2  Posting Box                                18 Chin Bee Ave  1.333105   \n",
       "3  Posting Box  755 Upper Serangoon Road (Former Post Office)   1.35438   \n",
       "4  Posting Box                          Admiralty MRT Station  1.440704   \n",
       "\n",
       "          long address  \n",
       "0  103.8389969    None  \n",
       "1   103.843157    None  \n",
       "2   103.711239    None  \n",
       "3  103.8779984    None  \n",
       "4   103.800521    None  "
      ]
     },
     "execution_count": 58,
     "metadata": {},
     "output_type": "execute_result"
    }
   ],
   "source": [
    "df.head()"
   ]
  },
  {
   "cell_type": "code",
   "execution_count": 59,
   "metadata": {},
   "outputs": [
    {
     "data": {
      "text/html": [
       "<div>\n",
       "<style scoped>\n",
       "    .dataframe tbody tr th:only-of-type {\n",
       "        vertical-align: middle;\n",
       "    }\n",
       "\n",
       "    .dataframe tbody tr th {\n",
       "        vertical-align: top;\n",
       "    }\n",
       "\n",
       "    .dataframe thead th {\n",
       "        text-align: right;\n",
       "    }\n",
       "</style>\n",
       "<table border=\"1\" class=\"dataframe\">\n",
       "  <thead>\n",
       "    <tr style=\"text-align: right;\">\n",
       "      <th></th>\n",
       "      <th>type</th>\n",
       "      <th>location</th>\n",
       "      <th>lat</th>\n",
       "      <th>long</th>\n",
       "      <th>address</th>\n",
       "    </tr>\n",
       "  </thead>\n",
       "  <tbody>\n",
       "    <tr>\n",
       "      <th>855</th>\n",
       "      <td>Post Office</td>\n",
       "      <td>Toa Payoh North Post Office</td>\n",
       "      <td>1.34208</td>\n",
       "      <td>103.848999</td>\n",
       "      <td>Blk 203 Toa Payoh North #01-1117/1119, Singapo...</td>\n",
       "    </tr>\n",
       "    <tr>\n",
       "      <th>856</th>\n",
       "      <td>Post Office</td>\n",
       "      <td>Towner Post Office</td>\n",
       "      <td>1.31949</td>\n",
       "      <td>103.8610001</td>\n",
       "      <td>Blk 101 Towner Road, #01-204/206, Singapore 32...</td>\n",
       "    </tr>\n",
       "    <tr>\n",
       "      <th>857</th>\n",
       "      <td>Post Office</td>\n",
       "      <td>Whampoa Post Office</td>\n",
       "      <td>1.32479</td>\n",
       "      <td>103.8570023</td>\n",
       "      <td>Whampoa Community Club, 300 Whampoa Drive, #01...</td>\n",
       "    </tr>\n",
       "    <tr>\n",
       "      <th>858</th>\n",
       "      <td>Post Office</td>\n",
       "      <td>Woodlands Central Post Office</td>\n",
       "      <td>1.43527</td>\n",
       "      <td>103.7870026</td>\n",
       "      <td>900 South Woodlands Drive #03-05/06 Woodlands ...</td>\n",
       "    </tr>\n",
       "    <tr>\n",
       "      <th>859</th>\n",
       "      <td>Post Office</td>\n",
       "      <td>Yishun Central Post Office</td>\n",
       "      <td>1.42995</td>\n",
       "      <td>103.8359985</td>\n",
       "      <td>930 Yishun Avenue 2, #02-04/05, Northpoint Cit...</td>\n",
       "    </tr>\n",
       "  </tbody>\n",
       "</table>\n",
       "</div>"
      ],
      "text/plain": [
       "            type                       location      lat         long  \\\n",
       "855  Post Office    Toa Payoh North Post Office  1.34208   103.848999   \n",
       "856  Post Office             Towner Post Office  1.31949  103.8610001   \n",
       "857  Post Office            Whampoa Post Office  1.32479  103.8570023   \n",
       "858  Post Office  Woodlands Central Post Office  1.43527  103.7870026   \n",
       "859  Post Office     Yishun Central Post Office  1.42995  103.8359985   \n",
       "\n",
       "                                               address  \n",
       "855  Blk 203 Toa Payoh North #01-1117/1119, Singapo...  \n",
       "856  Blk 101 Towner Road, #01-204/206, Singapore 32...  \n",
       "857  Whampoa Community Club, 300 Whampoa Drive, #01...  \n",
       "858  900 South Woodlands Drive #03-05/06 Woodlands ...  \n",
       "859  930 Yishun Avenue 2, #02-04/05, Northpoint Cit...  "
      ]
     },
     "execution_count": 59,
     "metadata": {},
     "output_type": "execute_result"
    }
   ],
   "source": [
    "df.tail()"
   ]
  },
  {
   "cell_type": "markdown",
   "metadata": {},
   "source": [
    "# Save as json"
   ]
  },
  {
   "cell_type": "code",
   "execution_count": 61,
   "metadata": {
    "collapsed": true
   },
   "outputs": [],
   "source": [
    "df.to_json('mailing_locations.json', orient='index')"
   ]
  },
  {
   "cell_type": "code",
   "execution_count": null,
   "metadata": {
    "collapsed": true
   },
   "outputs": [],
   "source": []
  }
 ],
 "metadata": {
  "anaconda-cloud": {},
  "kernelspec": {
   "display_name": "Python [Root]",
   "language": "python",
   "name": "Python [Root]"
  },
  "language_info": {
   "codemirror_mode": {
    "name": "ipython",
    "version": 2
   },
   "file_extension": ".py",
   "mimetype": "text/x-python",
   "name": "python",
   "nbconvert_exporter": "python",
   "pygments_lexer": "ipython2",
   "version": "2.7.9"
  }
 },
 "nbformat": 4,
 "nbformat_minor": 1
}
